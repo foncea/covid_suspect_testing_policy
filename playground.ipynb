{
 "metadata": {
  "language_info": {
   "codemirror_mode": {
    "name": "ipython",
    "version": 3
   },
   "file_extension": ".py",
   "mimetype": "text/x-python",
   "name": "python",
   "nbconvert_exporter": "python",
   "pygments_lexer": "ipython3",
   "version": "3.9.2"
  },
  "orig_nbformat": 2,
  "kernelspec": {
   "name": "python392jvsc74a57bd0aee8b7b246df8f9039afb4144a1f6fd8d2ca17a180786b69acc140d282b71a49",
   "display_name": "Python 3.9.2 64-bit"
  }
 },
 "nbformat": 4,
 "nbformat_minor": 2,
 "cells": [
  {
   "cell_type": "code",
   "execution_count": 1,
   "metadata": {},
   "outputs": [],
   "source": [
    "import pandas as pd\n",
    "import numpy as np\n",
    "pd.options.mode.chained_assignment = None "
   ]
  },
  {
   "cell_type": "code",
   "execution_count": 41,
   "metadata": {},
   "outputs": [
    {
     "output_type": "execute_result",
     "data": {
      "text/plain": [
       "{0: 1.0,\n",
       " 1: 0.9989026309458073,\n",
       " 2: 0.9002216137504923,\n",
       " 3: 0.6164350165325337,\n",
       " 4: 0.2849591641515709,\n",
       " 5: 0.050062788229371935,\n",
       " 6: 0.0007553786983207074}"
      ]
     },
     "metadata": {},
     "execution_count": 41
    }
   ],
   "source": [
    "viral_loads = pd.read_csv('viral_load_mc.csv')\n",
    "\n",
    "viral_load_s = viral_loads.loc[lambda x: x['14'] != 0]\n",
    "viral_load_s['symptom_day'] = viral_load_s['14'].map(lambda y: np.round(y))\n",
    "total_s = viral_load_s.shape[0]\n",
    "\n",
    "count = []\n",
    "for t in range(14):\n",
    "   viral_load_s_i = viral_load_s.loc[lambda x: x[str(t)] > 6]\n",
    "   viral_load_s_i['diff'] = viral_load_s_i['symptom_day'] - t\n",
    "   count.append(viral_load_s_i['diff'].value_counts())\n",
    "\n",
    "   pdf = {i: 0 for i in range(-10, 10)}\n",
    "\n",
    "for s in count:\n",
    "    for i in s.index:\n",
    "        pdf[i] = pdf[i] + s[i]\n",
    "\n",
    "pdf2 = {i: pdf[i] / total_s for i in pdf.keys() if (i >= 0 and pdf[i] > 0)}\n",
    "pdf3 = {d: pdf2[d] / sum(pdf2.values()) for d in pdf2}\n",
    "pdf4 = {d: np.prod([1 - pdf3[i] for i in pdf3 if i > d]) for d in pdf3}\n",
    "pdf5 = {d: pdf3[d] * pdf4[d] for d in pdf4}\n",
    "{d: pdf5[d] / sum(pdf5.values()) for d in pdf5}"
   ]
  },
  {
   "cell_type": "code",
   "execution_count": 2,
   "metadata": {},
   "outputs": [],
   "source": [
    "res1 = pd.read_csv('results_17_05_3.csv')\n",
    "res2 = pd.read_csv('results_17_05_2.csv')\n",
    "# pd.concat([res1, res2]).to_csv('results_17_05_4.csv')"
   ]
  },
  {
   "cell_type": "code",
   "execution_count": 3,
   "metadata": {},
   "outputs": [],
   "source": [
    "res = pd.read_csv('results_17_05_4.csv')\n"
   ]
  },
  {
   "cell_type": "code",
   "execution_count": 40,
   "metadata": {},
   "outputs": [],
   "source": [
    "# viral_loads = pd.read_csv('viral_load_mc.csv')\n",
    "\n",
    "# viral_load_s = viral_loads.loc[lambda x: x['14'] != 0]\n",
    "# viral_load_s['symptom_day'] = viral_load_s['14'].map(lambda y: np.round(y))\n",
    "# total_s = viral_load_s.shape[0]\n",
    "\n",
    "count = []\n",
    "for t in range(14):\n",
    "   viral_load_s_i = viral_load_s.loc[lambda x: x[str(t)] > 6]\n",
    "   viral_load_s_i['diff'] = viral_load_s_i['symptom_day'] - t\n",
    "   count.append(viral_load_s_i['diff'].value_counts())\n",
    "\n",
    "   pdf = {i: 0 for i in range(-10, 10)}\n",
    "\n",
    "for s in count:\n",
    "    for i in s.index:\n",
    "        pdf[i] = pdf[i] + s[i]\n",
    "\n",
    "pdf2 = {i: pdf[i] / total_s for i in pdf.keys() if (i >= 0 and pdf[i] > 0)}\n",
    "pdf2"
   ]
  },
  {
   "cell_type": "code",
   "execution_count": 22,
   "metadata": {},
   "outputs": [
    {
     "output_type": "stream",
     "name": "stderr",
     "text": [
      "<ipython-input-22-394bd8e25684>:4: SettingWithCopyWarning: \n",
      "A value is trying to be set on a copy of a slice from a DataFrame.\n",
      "Try using .loc[row_indexer,col_indexer] = value instead\n",
      "\n",
      "See the caveats in the documentation: https://pandas.pydata.org/pandas-docs/stable/user_guide/indexing.html#returning-a-view-versus-a-copy\n",
      "  viral_load_s_i['diff'] = viral_load_s_i['symptom_day'] - t\n",
      "<ipython-input-22-394bd8e25684>:4: SettingWithCopyWarning: \n",
      "A value is trying to be set on a copy of a slice from a DataFrame.\n",
      "Try using .loc[row_indexer,col_indexer] = value instead\n",
      "\n",
      "See the caveats in the documentation: https://pandas.pydata.org/pandas-docs/stable/user_guide/indexing.html#returning-a-view-versus-a-copy\n",
      "  viral_load_s_i['diff'] = viral_load_s_i['symptom_day'] - t\n",
      "<ipython-input-22-394bd8e25684>:4: SettingWithCopyWarning: \n",
      "A value is trying to be set on a copy of a slice from a DataFrame.\n",
      "Try using .loc[row_indexer,col_indexer] = value instead\n",
      "\n",
      "See the caveats in the documentation: https://pandas.pydata.org/pandas-docs/stable/user_guide/indexing.html#returning-a-view-versus-a-copy\n",
      "  viral_load_s_i['diff'] = viral_load_s_i['symptom_day'] - t\n",
      "<ipython-input-22-394bd8e25684>:4: SettingWithCopyWarning: \n",
      "A value is trying to be set on a copy of a slice from a DataFrame.\n",
      "Try using .loc[row_indexer,col_indexer] = value instead\n",
      "\n",
      "See the caveats in the documentation: https://pandas.pydata.org/pandas-docs/stable/user_guide/indexing.html#returning-a-view-versus-a-copy\n",
      "  viral_load_s_i['diff'] = viral_load_s_i['symptom_day'] - t\n",
      "<ipython-input-22-394bd8e25684>:4: SettingWithCopyWarning: \n",
      "A value is trying to be set on a copy of a slice from a DataFrame.\n",
      "Try using .loc[row_indexer,col_indexer] = value instead\n",
      "\n",
      "See the caveats in the documentation: https://pandas.pydata.org/pandas-docs/stable/user_guide/indexing.html#returning-a-view-versus-a-copy\n",
      "  viral_load_s_i['diff'] = viral_load_s_i['symptom_day'] - t\n",
      "<ipython-input-22-394bd8e25684>:4: SettingWithCopyWarning: \n",
      "A value is trying to be set on a copy of a slice from a DataFrame.\n",
      "Try using .loc[row_indexer,col_indexer] = value instead\n",
      "\n",
      "See the caveats in the documentation: https://pandas.pydata.org/pandas-docs/stable/user_guide/indexing.html#returning-a-view-versus-a-copy\n",
      "  viral_load_s_i['diff'] = viral_load_s_i['symptom_day'] - t\n",
      "<ipython-input-22-394bd8e25684>:4: SettingWithCopyWarning: \n",
      "A value is trying to be set on a copy of a slice from a DataFrame.\n",
      "Try using .loc[row_indexer,col_indexer] = value instead\n",
      "\n",
      "See the caveats in the documentation: https://pandas.pydata.org/pandas-docs/stable/user_guide/indexing.html#returning-a-view-versus-a-copy\n",
      "  viral_load_s_i['diff'] = viral_load_s_i['symptom_day'] - t\n",
      "<ipython-input-22-394bd8e25684>:4: SettingWithCopyWarning: \n",
      "A value is trying to be set on a copy of a slice from a DataFrame.\n",
      "Try using .loc[row_indexer,col_indexer] = value instead\n",
      "\n",
      "See the caveats in the documentation: https://pandas.pydata.org/pandas-docs/stable/user_guide/indexing.html#returning-a-view-versus-a-copy\n",
      "  viral_load_s_i['diff'] = viral_load_s_i['symptom_day'] - t\n",
      "<ipython-input-22-394bd8e25684>:4: SettingWithCopyWarning: \n",
      "A value is trying to be set on a copy of a slice from a DataFrame.\n",
      "Try using .loc[row_indexer,col_indexer] = value instead\n",
      "\n",
      "See the caveats in the documentation: https://pandas.pydata.org/pandas-docs/stable/user_guide/indexing.html#returning-a-view-versus-a-copy\n",
      "  viral_load_s_i['diff'] = viral_load_s_i['symptom_day'] - t\n",
      "<ipython-input-22-394bd8e25684>:4: SettingWithCopyWarning: \n",
      "A value is trying to be set on a copy of a slice from a DataFrame.\n",
      "Try using .loc[row_indexer,col_indexer] = value instead\n",
      "\n",
      "See the caveats in the documentation: https://pandas.pydata.org/pandas-docs/stable/user_guide/indexing.html#returning-a-view-versus-a-copy\n",
      "  viral_load_s_i['diff'] = viral_load_s_i['symptom_day'] - t\n",
      "<ipython-input-22-394bd8e25684>:4: SettingWithCopyWarning: \n",
      "A value is trying to be set on a copy of a slice from a DataFrame.\n",
      "Try using .loc[row_indexer,col_indexer] = value instead\n",
      "\n",
      "See the caveats in the documentation: https://pandas.pydata.org/pandas-docs/stable/user_guide/indexing.html#returning-a-view-versus-a-copy\n",
      "  viral_load_s_i['diff'] = viral_load_s_i['symptom_day'] - t\n"
     ]
    }
   ],
   "source": []
  },
  {
   "cell_type": "code",
   "execution_count": 34,
   "metadata": {},
   "outputs": [],
   "source": []
  },
  {
   "cell_type": "code",
   "execution_count": 36,
   "metadata": {},
   "outputs": [],
   "source": []
  },
  {
   "cell_type": "code",
   "execution_count": 37,
   "metadata": {},
   "outputs": [
    {
     "output_type": "execute_result",
     "data": {
      "text/plain": [
       "{0: 1.0,\n",
       " 1: 0.9989026309458073,\n",
       " 2: 0.9002216137504923,\n",
       " 3: 0.6164350165325337,\n",
       " 4: 0.2849591641515709,\n",
       " 5: 0.050062788229371935,\n",
       " 6: 0.0007553786983207074}"
      ]
     },
     "metadata": {},
     "execution_count": 37
    }
   ],
   "source": [
    "pdf2"
   ]
  },
  {
   "cell_type": "code",
   "execution_count": null,
   "metadata": {},
   "outputs": [],
   "source": []
  }
 ]
}