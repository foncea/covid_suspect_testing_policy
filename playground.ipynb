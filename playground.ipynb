{
 "metadata": {
  "language_info": {
   "codemirror_mode": {
    "name": "ipython",
    "version": 3
   },
   "file_extension": ".py",
   "mimetype": "text/x-python",
   "name": "python",
   "nbconvert_exporter": "python",
   "pygments_lexer": "ipython3",
   "version": "3.9.2"
  },
  "orig_nbformat": 2,
  "kernelspec": {
   "name": "python392jvsc74a57bd0aee8b7b246df8f9039afb4144a1f6fd8d2ca17a180786b69acc140d282b71a49",
   "display_name": "Python 3.9.2 64-bit"
  }
 },
 "nbformat": 4,
 "nbformat_minor": 2,
 "cells": [
  {
   "cell_type": "code",
   "execution_count": 5,
   "metadata": {},
   "outputs": [],
   "source": [
    "import pandas as pd\n",
    "import numpy as np\n",
    "pd.options.mode.chained_assignment = None \n",
    "import plotly.express as px"
   ]
  },
  {
   "cell_type": "code",
   "execution_count": 45,
   "metadata": {},
   "outputs": [
    {
     "output_type": "execute_result",
     "data": {
      "text/plain": [
       "{0: 0.1669353401405535,\n",
       " 1: 0.22514759942847082,\n",
       " 2: 0.26480058806134404,\n",
       " 3: 0.21587741781643335,\n",
       " 4: 0.10776722889318635,\n",
       " 5: 0.01918233381609943,\n",
       " 6: 0.0002894918439125493}"
      ]
     },
     "metadata": {},
     "execution_count": 45
    }
   ],
   "source": [
    "# Infection day distribution based on symptoms of index\n",
    "\n",
    "viral_loads = pd.read_csv('data/viral_load_mc.csv')\n",
    "\n",
    "viral_load_s = viral_loads.loc[lambda x: x['14'] != 0]\n",
    "viral_load_s['symptom_day'] = viral_load_s['14'].map(lambda y: np.round(y))\n",
    "total_s = viral_load_s.shape[0]\n",
    "\n",
    "count = []\n",
    "for t in range(14):\n",
    "   viral_load_s_i = viral_load_s.loc[lambda x: x[str(t)] > 6]\n",
    "   viral_load_s_i['diff'] = viral_load_s_i['symptom_day'] - t\n",
    "   count.append(viral_load_s_i['diff'].value_counts())\n",
    "\n",
    "   pdf = {i: 0 for i in range(-10, 10)}\n",
    "\n",
    "for s in count:\n",
    "    for i in s.index:\n",
    "        pdf[i] = pdf[i] + s[i]\n",
    "\n",
    "pdf2 = {i: pdf[i] / total_s for i in pdf.keys() if (i >= 0 and pdf[i] > 0)}\n",
    "pdf3 = {d: pdf2[d] / sum(pdf2.values()) for d in pdf2}\n",
    "pdf4 = {d: np.prod([1 - pdf3[i] for i in pdf3 if i > d]) for d in pdf3}\n",
    "pdf5 = {d: pdf3[d] * pdf4[d] for d in pdf4}\n",
    "{d: pdf5[d] / sum(pdf5.values()) for d in pdf5}"
   ]
  },
  {
   "cell_type": "code",
   "execution_count": 4,
   "metadata": {},
   "outputs": [
    {
     "output_type": "execute_result",
     "data": {
      "text/plain": [
       "{0: 0.2293036219761009,\n",
       " 1: 0.18128384580190515,\n",
       " 2: 0.14653955482675665,\n",
       " 3: 0.12010576845981617,\n",
       " 4: 0.09792175735034825,\n",
       " 5: 0.0781634715677543,\n",
       " 6: 0.05988473052433669,\n",
       " 7: 0.043097718698014466,\n",
       " 8: 0.02825970454857069,\n",
       " 9: 0.015439826246396676}"
      ]
     },
     "metadata": {},
     "execution_count": 4
    }
   ],
   "source": [
    "# Infection day distribution based on antigen positive of index\n",
    "\n",
    "viral_loads = pd.read_csv('data/viral_load_mc.csv').iloc[:int(1e6)].rename(columns={'Unnamed: 0': 'id'})\n",
    "\n",
    "prob_P = {}\n",
    "for d in range(1, 13):\n",
    "    for t in range(d, 13):\n",
    "        viral_load_p = viral_loads.loc[lambda x: x[str(d - 1)] < 5].loc[lambda x: x[str(d)] >= 5].loc[lambda x: x[str(t)] >= 5].loc[lambda x: x[str(t + 1)] < 5]\n",
    "        prob_P[(d, t)] = viral_load_p.shape[0] / 1e6\n",
    "for d in range(1, 12):\n",
    "    viral_load_p = viral_loads.loc[lambda x: x[str(d - 1)] < 5].loc[lambda x: x[str(d)] >= 5].loc[lambda x: x['13'] >= 5]\n",
    "    prob_P[(d, 13)] = viral_load_p.shape[0] / 1e6\n",
    "\n",
    "prob_t = {t: sum([prob_P[d] / (d[1] - d[0] + 1) for d in prob_P if d[0] <= t and t <= d[1]]) for t in range(2, 14)}\n",
    "\n",
    "count_days = {}\n",
    "for d in range(2, 14):\n",
    "    viral_load_d = viral_loads.loc[lambda x: x[str(d)] >= 5]\n",
    "    viral_load_d = viral_load_d[['id'] + [str(t) for t in range(0, d + 1)]]\n",
    "    viral_load_d = pd.melt(viral_load_d, id_vars=['id'], var_name='day', value_name='viral_load')\n",
    "    viral_load_d = viral_load_d.loc[lambda x: x['viral_load'] >= 6]\n",
    "    count_days[d] = viral_load_d['day'].value_counts()\n",
    "\n",
    "pdf = {d: count_days[d] / count_days[d].sum() for d in range(2, 14)}\n",
    "pdf2 = {d: {i: pdf[d][str(i)] for i in range(2, d + 1)} for d in pdf}\n",
    "pdf3 = {d: {t: pdf2[d][t] * np.prod([1 - pdf2[d][i] for i in pdf2[d] if i < t]) for t in pdf2[d]} for d in pdf2}\n",
    "pdf4 = {d: {d - t: pdf3[d][t] / sum(pdf3[d].values()) for t in pdf3[d]} for d in pdf3}\n",
    "pdf5 = {i: sum([prob_t[t]* pdf4[t][i]  for t in prob_t if t - 1 > i]) for i in range(14)}\n",
    "pdf6 = {i: pdf5[i] for i in pdf5 if i <= 9}\n",
    "{i: pdf6[i] / sum(pdf6.values()) for i in pdf6}"
   ]
  },
  {
   "cell_type": "code",
   "execution_count": 6,
   "metadata": {},
   "outputs": [],
   "source": [
    "# Pareto Points\n",
    "\n",
    "res = pd.read_csv('data/results_antigen_25_05_1.csv')\n",
    "\n",
    "def pareto(df):\n",
    "    aux = df.sort_values('expected_infecting_days', ascending=True)\n",
    "\n",
    "    pareto_points = []    \n",
    "    while aux.shape[0] > 0:\n",
    "        pareto_points.append(aux.iloc[0:1])\n",
    "        current_high = aux['expected_non_infecting_days'].iloc[0]\n",
    "        aux = aux.loc[lambda x: x['expected_non_infecting_days'] > current_high]\n",
    "        \n",
    "    return pd.concat(pareto_points)\n",
    "\n",
    "pareto_points = res.groupby(['num_antigen', 'num_pcr'], as_index=False).apply(pareto)\n",
    "\n",
    "pareto_points.to_csv('data/pareto_points_antigen_25_05_1.csv')\n"
   ]
  },
  {
   "cell_type": "code",
   "execution_count": null,
   "metadata": {},
   "outputs": [],
   "source": []
  },
  {
   "cell_type": "code",
   "execution_count": 97,
   "metadata": {},
   "outputs": [],
   "source": [
    "# Table of best policies\n",
    "\n",
    "res = pd.read_csv('data/results_19_05_1.csv').rename(columns={'variance_infencting_days': 'variance_infecting_days'})\n",
    "\n",
    "def best_k(df, k=3):\n",
    "    best_k_df = df.sort_values('expected_infecting_days', ascending=True).iloc[:k]\n",
    "    return best_k_df\n",
    "\n",
    "def best_p(df, p=.05):\n",
    "    best_value = df.sort_values('expected_infecting_days', ascending=True)['expected_infecting_days'].iloc[0]\n",
    "    best_p_df = df.loc[df['expected_infecting_days'] < (1 + p) * best_value]\n",
    "    return best_p_df\n",
    "\n",
    "def best_p_and_k(df, p=0.2, k=1):\n",
    "    best_value = df.sort_values('expected_infecting_days', ascending=True)['expected_infecting_days'].iloc[0]\n",
    "    best_p_df = df.loc[df['expected_infecting_days'] < (1 + p) * best_value]\n",
    "    best_p_k_df = (\n",
    "        best_p_df\n",
    "        .sort_values('expected_infecting_days', ascending=True)\n",
    "        .iloc[:k]\n",
    "        .sort_values('variance_infecting_days', ascending=True)\n",
    "        .assign(ranking = lambda x: list(range(1, x.shape[0] + 1)))\n",
    "    )\n",
    "\n",
    "    return best_p_k_df\n",
    "\n",
    "def best_sd(df):\n",
    "    best_value = df.sort_values('expected_infecting_days', ascending=True)['expected_infecting_days'].iloc[0]\n",
    "    best_value_sd = df.sort_values('expected_infecting_days', ascending=True)['variance_infecting_days'].iloc[0]\n",
    "    best_sd_df = df.loc[df['expected_infecting_days'] < best_value_sd + best_value]\n",
    "    return best_sd_df\n",
    "\n",
    "\n",
    "# (res\n",
    "#     .groupby([ 'num_pcr', 'num_antigen'], as_index=False)\n",
    "#     .apply(best_p_and_k)\n",
    "#     # .set_index([ 'num_pcr', 'num_antigen', 'ranking'])\n",
    "#     .assign(policy = lambda x: 'Antigen: ' + x['antigen_days'] + ', PCR: ' + x['pcr_days'])\n",
    "#     .pivot(index=['num_pcr', 'num_antigen'],\n",
    "#            columns='ranking',\n",
    "#            values=['policy'])\n",
    "#     .fillna('[]')\n",
    "#     .applymap(lambda x: x.replace('[]', ''))\n",
    "#     .to_csv('data/best_policies_table_20_05_2.csv')\n",
    "# )\n",
    "\n",
    "(res\n",
    "    .groupby([ 'num_pcr', 'num_antigen'], as_index=False)\n",
    "    .apply(best_p_and_k)\n",
    "    # .set_index([ 'num_pcr', 'num_antigen', 'ranking'])\n",
    "    .assign(policy = lambda x: 'Antigen: ' + x['antigen_days'] + ', PCR: ' + x['pcr_days'])\n",
    "    .pivot(index=['num_pcr', 'num_antigen'],\n",
    "           columns='ranking',\n",
    "           values=['expected_infecting_days', 'expected_non_infecting_days'])\n",
    "    .fillna(0)\n",
    "    # .applymap(lambda x: x.replace('[]', ''))\n",
    "    .to_csv('data/best_performances_table_20_05_1.csv')\n",
    ")\n",
    "\n",
    "# res_aux = res.groupby([ 'num_pcr', 'num_antigen',], as_index=False).apply(best_p_and_k)#.assign(antigen_days = lambda x: 'Antigen: ' + x['antigen_days'], pcr_days = lambda x: 'PCR: ' + x['pcr_days'])\n",
    "\n",
    "# res1 = res_aux.loc[lambda x: x['ranking'] == 1][['num_pcr', 'num_antigen', 'antigen_days', 'pcr_days', 'ranking']]\n",
    "# res2 = res_aux.loc[lambda x: x['ranking'] == 2][['num_pcr', 'num_antigen', 'antigen_days', 'pcr_days', 'ranking']]\n",
    "# res3 = res_aux.loc[lambda x: x['ranking'] == 3][['num_pcr', 'num_antigen', 'antigen_days', 'pcr_days', 'ranking']]\n",
    "\n",
    "# res1.merge(res2, on=['num_pcr', 'num_antigen']).merge(res3, on=['num_pcr', 'num_antigen']).sort_values(['num_pcr', 'num_antigen']).set_index(['num_pcr', 'num_antigen'])\n",
    "\n",
    "# aux = res.groupby([ 'num_pcr', 'num_antigen',], as_index=False).apply(best_p_and_k).assign(antigen_days = lambda x: 'Antigen: ' + x['antigen_days'], pcr_days = lambda x: 'PCR: ' + x['pcr_days']).groupby([ 'num_pcr', 'num_antigen', 'ranking']).agg({'antigen_days': 'first', 'pcr_days':'first'}).unstack()\n",
    "# aux.columns = aux.columns.swaplevel(0, 1)\n",
    "# aux.sort_index(level=0, axis=1).fillna('[]').applymap(lambda x: x.replace('[]', '')).to_csv('data/best_policies_table_20_05_1.csv')"
   ]
  },
  {
   "cell_type": "code",
   "execution_count": 30,
   "metadata": {},
   "outputs": [
    {
     "output_type": "error",
     "ename": "NameError",
     "evalue": "name 'y' is not defined",
     "traceback": [
      "\u001b[0;31m---------------------------------------------------------------------------\u001b[0m",
      "\u001b[0;31mNameError\u001b[0m                                 Traceback (most recent call last)",
      "\u001b[0;32m<ipython-input-30-134cd6983678>\u001b[0m in \u001b[0;36m<module>\u001b[0;34m\u001b[0m\n\u001b[0;32m----> 1\u001b[0;31m \u001b[0mpareto_points\u001b[0m\u001b[0;34m.\u001b[0m\u001b[0massign\u001b[0m\u001b[0;34m(\u001b[0m\u001b[0mcombo\u001b[0m \u001b[0;34m=\u001b[0m \u001b[0;32mlambda\u001b[0m \u001b[0mx\u001b[0m\u001b[0;34m:\u001b[0m \u001b[0mstr\u001b[0m\u001b[0;34m(\u001b[0m\u001b[0my\u001b[0m\u001b[0;34m[\u001b[0m\u001b[0;34m'num_antigen'\u001b[0m\u001b[0;34m]\u001b[0m\u001b[0;34m)\u001b[0m \u001b[0;34m+\u001b[0m \u001b[0;34m','\u001b[0m \u001b[0;34m+\u001b[0m \u001b[0mstr\u001b[0m\u001b[0;34m(\u001b[0m\u001b[0my\u001b[0m\u001b[0;34m[\u001b[0m\u001b[0;34m'num_pcr'\u001b[0m\u001b[0;34m]\u001b[0m\u001b[0;34m)\u001b[0m\u001b[0;34m)\u001b[0m\u001b[0;34m\u001b[0m\u001b[0;34m\u001b[0m\u001b[0m\n\u001b[0m",
      "\u001b[0;32m/Library/Frameworks/Python.framework/Versions/3.9/lib/python3.9/site-packages/pandas/core/frame.py\u001b[0m in \u001b[0;36massign\u001b[0;34m(self, **kwargs)\u001b[0m\n\u001b[1;32m   3828\u001b[0m \u001b[0;34m\u001b[0m\u001b[0m\n\u001b[1;32m   3829\u001b[0m         \u001b[0;32mfor\u001b[0m \u001b[0mk\u001b[0m\u001b[0;34m,\u001b[0m \u001b[0mv\u001b[0m \u001b[0;32min\u001b[0m \u001b[0mkwargs\u001b[0m\u001b[0;34m.\u001b[0m\u001b[0mitems\u001b[0m\u001b[0;34m(\u001b[0m\u001b[0;34m)\u001b[0m\u001b[0;34m:\u001b[0m\u001b[0;34m\u001b[0m\u001b[0;34m\u001b[0m\u001b[0m\n\u001b[0;32m-> 3830\u001b[0;31m             \u001b[0mdata\u001b[0m\u001b[0;34m[\u001b[0m\u001b[0mk\u001b[0m\u001b[0;34m]\u001b[0m \u001b[0;34m=\u001b[0m \u001b[0mcom\u001b[0m\u001b[0;34m.\u001b[0m\u001b[0mapply_if_callable\u001b[0m\u001b[0;34m(\u001b[0m\u001b[0mv\u001b[0m\u001b[0;34m,\u001b[0m \u001b[0mdata\u001b[0m\u001b[0;34m)\u001b[0m\u001b[0;34m\u001b[0m\u001b[0;34m\u001b[0m\u001b[0m\n\u001b[0m\u001b[1;32m   3831\u001b[0m         \u001b[0;32mreturn\u001b[0m \u001b[0mdata\u001b[0m\u001b[0;34m\u001b[0m\u001b[0;34m\u001b[0m\u001b[0m\n\u001b[1;32m   3832\u001b[0m \u001b[0;34m\u001b[0m\u001b[0m\n",
      "\u001b[0;32m/Library/Frameworks/Python.framework/Versions/3.9/lib/python3.9/site-packages/pandas/core/common.py\u001b[0m in \u001b[0;36mapply_if_callable\u001b[0;34m(maybe_callable, obj, **kwargs)\u001b[0m\n\u001b[1;32m    327\u001b[0m     \"\"\"\n\u001b[1;32m    328\u001b[0m     \u001b[0;32mif\u001b[0m \u001b[0mcallable\u001b[0m\u001b[0;34m(\u001b[0m\u001b[0mmaybe_callable\u001b[0m\u001b[0;34m)\u001b[0m\u001b[0;34m:\u001b[0m\u001b[0;34m\u001b[0m\u001b[0;34m\u001b[0m\u001b[0m\n\u001b[0;32m--> 329\u001b[0;31m         \u001b[0;32mreturn\u001b[0m \u001b[0mmaybe_callable\u001b[0m\u001b[0;34m(\u001b[0m\u001b[0mobj\u001b[0m\u001b[0;34m,\u001b[0m \u001b[0;34m**\u001b[0m\u001b[0mkwargs\u001b[0m\u001b[0;34m)\u001b[0m\u001b[0;34m\u001b[0m\u001b[0;34m\u001b[0m\u001b[0m\n\u001b[0m\u001b[1;32m    330\u001b[0m \u001b[0;34m\u001b[0m\u001b[0m\n\u001b[1;32m    331\u001b[0m     \u001b[0;32mreturn\u001b[0m \u001b[0mmaybe_callable\u001b[0m\u001b[0;34m\u001b[0m\u001b[0;34m\u001b[0m\u001b[0m\n",
      "\u001b[0;32m<ipython-input-30-134cd6983678>\u001b[0m in \u001b[0;36m<lambda>\u001b[0;34m(x)\u001b[0m\n\u001b[0;32m----> 1\u001b[0;31m \u001b[0mpareto_points\u001b[0m\u001b[0;34m.\u001b[0m\u001b[0massign\u001b[0m\u001b[0;34m(\u001b[0m\u001b[0mcombo\u001b[0m \u001b[0;34m=\u001b[0m \u001b[0;32mlambda\u001b[0m \u001b[0mx\u001b[0m\u001b[0;34m:\u001b[0m \u001b[0mstr\u001b[0m\u001b[0;34m(\u001b[0m\u001b[0my\u001b[0m\u001b[0;34m[\u001b[0m\u001b[0;34m'num_antigen'\u001b[0m\u001b[0;34m]\u001b[0m\u001b[0;34m)\u001b[0m \u001b[0;34m+\u001b[0m \u001b[0;34m','\u001b[0m \u001b[0;34m+\u001b[0m \u001b[0mstr\u001b[0m\u001b[0;34m(\u001b[0m\u001b[0my\u001b[0m\u001b[0;34m[\u001b[0m\u001b[0;34m'num_pcr'\u001b[0m\u001b[0;34m]\u001b[0m\u001b[0;34m)\u001b[0m\u001b[0;34m)\u001b[0m\u001b[0;34m\u001b[0m\u001b[0;34m\u001b[0m\u001b[0m\n\u001b[0m",
      "\u001b[0;31mNameError\u001b[0m: name 'y' is not defined"
     ]
    }
   ],
   "source": [
    "pareto_points.assign(combo = lambda x: str(y['num_antigen']) + ',' + str(y['num_pcr']))"
   ]
  },
  {
   "cell_type": "code",
   "execution_count": 34,
   "metadata": {},
   "outputs": [],
   "source": []
  },
  {
   "cell_type": "code",
   "execution_count": 36,
   "metadata": {},
   "outputs": [],
   "source": []
  },
  {
   "cell_type": "code",
   "execution_count": 37,
   "metadata": {},
   "outputs": [
    {
     "output_type": "execute_result",
     "data": {
      "text/plain": [
       "{0: 1.0,\n",
       " 1: 0.9989026309458073,\n",
       " 2: 0.9002216137504923,\n",
       " 3: 0.6164350165325337,\n",
       " 4: 0.2849591641515709,\n",
       " 5: 0.050062788229371935,\n",
       " 6: 0.0007553786983207074}"
      ]
     },
     "metadata": {},
     "execution_count": 37
    }
   ],
   "source": [
    "pdf2"
   ]
  },
  {
   "cell_type": "code",
   "execution_count": null,
   "metadata": {},
   "outputs": [],
   "source": []
  }
 ]
}