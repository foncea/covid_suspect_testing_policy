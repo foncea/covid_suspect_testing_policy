{
 "metadata": {
  "language_info": {
   "codemirror_mode": {
    "name": "ipython",
    "version": 3
   },
   "file_extension": ".py",
   "mimetype": "text/x-python",
   "name": "python",
   "nbconvert_exporter": "python",
   "pygments_lexer": "ipython3",
   "version": "3.9.2"
  },
  "orig_nbformat": 2,
  "kernelspec": {
   "name": "python392jvsc74a57bd0aee8b7b246df8f9039afb4144a1f6fd8d2ca17a180786b69acc140d282b71a49",
   "display_name": "Python 3.9.2 64-bit"
  }
 },
 "nbformat": 4,
 "nbformat_minor": 2,
 "cells": [
  {
   "cell_type": "code",
   "execution_count": 2,
   "metadata": {},
   "outputs": [],
   "source": [
    "import pandas as pd\n",
    "import numpy as np\n",
    "pd.options.mode.chained_assignment = None \n",
    "import plotly.express as px"
   ]
  },
  {
   "cell_type": "code",
   "execution_count": 45,
   "metadata": {},
   "outputs": [
    {
     "output_type": "execute_result",
     "data": {
      "text/plain": [
       "{0: 0.1669353401405535,\n",
       " 1: 0.22514759942847082,\n",
       " 2: 0.26480058806134404,\n",
       " 3: 0.21587741781643335,\n",
       " 4: 0.10776722889318635,\n",
       " 5: 0.01918233381609943,\n",
       " 6: 0.0002894918439125493}"
      ]
     },
     "metadata": {},
     "execution_count": 45
    }
   ],
   "source": [
    "# Infection day distribution based on symptoms of index\n",
    "\n",
    "viral_loads = pd.read_csv('data/viral_load_mc.csv')\n",
    "\n",
    "viral_load_s = viral_loads.loc[lambda x: x['14'] != 0]\n",
    "viral_load_s['symptom_day'] = viral_load_s['14'].map(lambda y: np.round(y))\n",
    "total_s = viral_load_s.shape[0]\n",
    "\n",
    "count = []\n",
    "for t in range(14):\n",
    "   viral_load_s_i = viral_load_s.loc[lambda x: x[str(t)] > 6]\n",
    "   viral_load_s_i['diff'] = viral_load_s_i['symptom_day'] - t\n",
    "   count.append(viral_load_s_i['diff'].value_counts())\n",
    "\n",
    "   pdf = {i: 0 for i in range(-10, 10)}\n",
    "\n",
    "for s in count:\n",
    "    for i in s.index:\n",
    "        pdf[i] = pdf[i] + s[i]\n",
    "\n",
    "pdf2 = {i: pdf[i] / total_s for i in pdf.keys() if (i >= 0 and pdf[i] > 0)}\n",
    "pdf3 = {d: pdf2[d] / sum(pdf2.values()) for d in pdf2}\n",
    "pdf4 = {d: np.prod([1 - pdf3[i] for i in pdf3 if i > d]) for d in pdf3}\n",
    "pdf5 = {d: pdf3[d] * pdf4[d] for d in pdf4}\n",
    "{d: pdf5[d] / sum(pdf5.values()) for d in pdf5}"
   ]
  },
  {
   "cell_type": "code",
   "execution_count": 53,
   "metadata": {},
   "outputs": [
    {
     "output_type": "execute_result",
     "data": {
      "text/plain": [
       "{2: 0.071797,\n",
       " 3: 0.818894,\n",
       " 4: 1.0,\n",
       " 5: 1.0,\n",
       " 6: 1.0,\n",
       " 7: 0.999998,\n",
       " 8: 0.997624,\n",
       " 9: 0.977091,\n",
       " 10: 0.927458,\n",
       " 11: 0.845951,\n",
       " 12: 0.739245,\n",
       " 13: 0.616213}"
      ]
     },
     "metadata": {},
     "execution_count": 53
    }
   ],
   "source": [
    "{d: antigen_detectable[d] / 1e6 for d in antigen_detectable}"
   ]
  },
  {
   "cell_type": "code",
   "execution_count": 102,
   "metadata": {},
   "outputs": [
    {
     "output_type": "execute_result",
     "data": {
      "text/plain": [
       "{0: 0.22814274601440315,\n",
       " 1: 0.18036607548052103,\n",
       " 2: 0.14579768147486516,\n",
       " 3: 0.11949771919192992,\n",
       " 4: 0.09742601719039967,\n",
       " 5: 0.07776776000225924,\n",
       " 6: 0.05958155718786974,\n",
       " 7: 0.04287953153982928,\n",
       " 8: 0.028116636543746347,\n",
       " 9: 0.015361660350072108,\n",
       " 10: 0.004938378035518153,\n",
       " 11: 0.00012423698858623843,\n",
       " 12: 0,\n",
       " 13: 0}"
      ]
     },
     "metadata": {},
     "execution_count": 102
    }
   ],
   "source": [
    "# Infection day distribution based on antigen positive of index\n",
    "\n",
    "# viral_loads = pd.read_csv('data/viral_load_mc.csv').iloc[:int(1e6)].rename(columns={'Unnamed: 0': 'id'})\n",
    "\n",
    "prob_P = {}\n",
    "for d in range(1, 13):\n",
    "    for t in range(d, 13):\n",
    "        viral_load_p = viral_loads.loc[lambda x: x[str(d - 1)] < 5].loc[lambda x: x[str(d)] >= 5].loc[lambda x: x[str(t)] >= 5].loc[lambda x: x[str(t + 1)] < 5]\n",
    "        prob_P[(d, t)] = viral_load_p.shape[0] / 1e6\n",
    "for d in range(1, 12):\n",
    "    viral_load_p = viral_loads.loc[lambda x: x[str(d - 1)] < 5].loc[lambda x: x[str(d)] >= 5].loc[lambda x: x['13'] >= 5]\n",
    "    prob_P[(d, 13)] = viral_load_p.shape[0] / 1e6\n",
    "\n",
    "prob_t = {t: sum([prob_P[d] / (d[1] - d[0] + 1) for d in prob_P if d[0] <= t and t <= d[1]]) for t in range(2, 14)}\n",
    "\n",
    "count_days = {}\n",
    "for d in range(2, 14):\n",
    "    viral_load_d = viral_loads.loc[lambda x: x[str(d)] >= 5]\n",
    "    viral_load_d = viral_load_d[['id'] + [str(t) for t in range(0, d + 1)]]\n",
    "    viral_load_d = pd.melt(viral_load_d, id_vars=['id'], var_name='day', value_name='viral_load')\n",
    "    viral_load_d = viral_load_d.loc[lambda x: x['viral_load'] >= 6]\n",
    "    count_days[d] = viral_load_d['day'].value_counts()\n",
    "\n",
    "pdf = {d: count_days[d] / count_days[d].sum() for d in range(2, 14)}\n",
    "pdf2 = {d: {pdf2[d][i] = pdf[d][str(i)] for i in range(2, d + 1)} for d in pdf}\n",
    "pdf3 = {d: {t: pdf2[d][t] * np.prod([1 - pdf2[d][i] for i in pdf2[d] if i < t]) for t in pdf2[d]} for d in pdf2}\n",
    "pdf4 = {d: {d - t: pdf3[d][t] / sum(pdf3[d].values()) for t in pdf3[d]} for d in pdf3}\n",
    "pdf5 = {i: sum([prob_t[t]* pdf4[t][i]  for t in prob_t if t - 1 > i]) for i in range(14)}\n",
    "pdf5"
   ]
  },
  {
   "cell_type": "code",
   "execution_count": 30,
   "metadata": {},
   "outputs": [
    {
     "output_type": "execute_result",
     "data": {
      "text/plain": [
       "{2: 2    1.0\n",
       " Name: day, dtype: float64,\n",
       " 3: 3    0.959457\n",
       " 2    0.040543\n",
       " Name: day, dtype: float64,\n",
       " 4: 4    0.611888\n",
       " 3    0.372377\n",
       " 2    0.015735\n",
       " Name: day, dtype: float64,\n",
       " 5: 5    0.387879\n",
       " 4    0.374549\n",
       " 3    0.227940\n",
       " 2    0.009632\n",
       " Name: day, dtype: float64,\n",
       " 6: 5    0.279476\n",
       " 6    0.279476\n",
       " 4    0.269872\n",
       " 3    0.164236\n",
       " 2    0.006940\n",
       " Name: day, dtype: float64,\n",
       " 7: 5    0.218675\n",
       " 6    0.218675\n",
       " 7    0.217554\n",
       " 4    0.211160\n",
       " 3    0.128506\n",
       " 2    0.005430\n",
       " Name: day, dtype: float64,\n",
       " 8: 5    0.180951\n",
       " 6    0.180951\n",
       " 7    0.180395\n",
       " 4    0.174718\n",
       " 8    0.172504\n",
       " 3    0.106160\n",
       " 2    0.004321\n",
       " Name: day, dtype: float64,\n",
       " 9: 5    0.155932\n",
       " 6    0.155932\n",
       " 7    0.155785\n",
       " 8    0.151722\n",
       " 4    0.150447\n",
       " 9    0.136609\n",
       " 3    0.090132\n",
       " 2    0.003440\n",
       " Name: day, dtype: float64,\n",
       " 10: 5     0.138502\n",
       " 6     0.138502\n",
       " 7     0.138462\n",
       " 8     0.137084\n",
       " 4     0.133370\n",
       " 9     0.127790\n",
       " 10    0.105952\n",
       " 3     0.077543\n",
       " 2     0.002795\n",
       " Name: day, dtype: float64,\n",
       " 11: 5     0.125789\n",
       " 6     0.125789\n",
       " 7     0.125787\n",
       " 8     0.125301\n",
       " 9     0.121498\n",
       " 4     0.120679\n",
       " 10    0.105495\n",
       " 11    0.079319\n",
       " 3     0.068056\n",
       " 2     0.002288\n",
       " Name: day, dtype: float64,\n",
       " 12: 5     0.116531\n",
       " 7     0.116531\n",
       " 6     0.116531\n",
       " 8     0.116435\n",
       " 9     0.114730\n",
       " 4     0.111192\n",
       " 10    0.106980\n",
       " 11    0.084088\n",
       " 3     0.060575\n",
       " 12    0.054574\n",
       " 2     0.001835\n",
       " Name: day, dtype: float64,\n",
       " 13: 5     0.109799\n",
       " 7     0.109799\n",
       " 6     0.109799\n",
       " 8     0.109797\n",
       " 9     0.109189\n",
       " 10    0.104993\n",
       " 4     0.104067\n",
       " 11    0.091607\n",
       " 12    0.061688\n",
       " 3     0.054092\n",
       " 13    0.033755\n",
       " 2     0.001415\n",
       " Name: day, dtype: float64}"
      ]
     },
     "metadata": {},
     "execution_count": 30
    }
   ],
   "source": [
    "pdf"
   ]
  },
  {
   "cell_type": "code",
   "execution_count": 18,
   "metadata": {},
   "outputs": [
    {
     "output_type": "execute_result",
     "data": {
      "text/plain": [
       "            id    0    1    2    3     4    5    6    7    8    9   10   11  \\\n",
       "0            0 -3.4 -0.1  3.2  6.5   8.6  8.2  7.8  7.5  7.1  6.8  6.4  6.1   \n",
       "1            1 -5.4 -0.2  5.0  9.4   8.7  7.9  7.2  6.4  5.7  4.9  4.1  3.4   \n",
       "2            2 -2.1  0.4  3.0  5.5   8.0  8.8  8.5  8.1  7.8  7.5  7.2  6.9   \n",
       "3            3 -4.1 -0.1  3.8  7.5   7.2  7.0  6.8  6.6  6.4  6.2  6.0  5.8   \n",
       "4            4 -4.0  0.1  4.1  8.2   8.5  8.1  7.8  7.4  7.0  6.6  6.2  5.8   \n",
       "...        ...  ...  ...  ...  ...   ...  ...  ...  ...  ...  ...  ...  ...   \n",
       "999995  999995 -7.4 -1.7  4.0  9.6   9.3  8.9  8.4  7.9  7.5  7.0  6.6  6.1   \n",
       "999996  999996 -3.8 -0.4  3.1  6.5  10.0  9.4  8.8  8.2  7.6  7.0  6.4  5.9   \n",
       "999997  999997 -9.5 -4.2  1.1  6.5   9.1  8.6  8.2  7.7  7.2  6.8  6.3  5.8   \n",
       "999998  999998 -4.1 -0.6  2.8  6.3   8.2  7.9  7.6  7.3  7.0  6.7  6.4  6.1   \n",
       "999999  999999 -0.2  1.7  3.5  5.4   7.3  7.5  7.3  7.1  6.9  6.7  6.5  6.3   \n",
       "\n",
       "         12   13        14  \n",
       "0       5.7  5.3  0.000000  \n",
       "1       2.6  1.9  0.000000  \n",
       "2       6.6  6.2  5.895681  \n",
       "3       5.6  5.4  0.000000  \n",
       "4       5.4  5.0  0.000000  \n",
       "...     ...  ...       ...  \n",
       "999995  5.7  5.2  4.869682  \n",
       "999996  5.3  4.7  6.962723  \n",
       "999997  5.4  4.9  5.233132  \n",
       "999998  5.7  5.4  0.000000  \n",
       "999999  6.1  6.0  6.591519  \n",
       "\n",
       "[1000000 rows x 16 columns]"
      ],
      "text/html": "<div>\n<style scoped>\n    .dataframe tbody tr th:only-of-type {\n        vertical-align: middle;\n    }\n\n    .dataframe tbody tr th {\n        vertical-align: top;\n    }\n\n    .dataframe thead th {\n        text-align: right;\n    }\n</style>\n<table border=\"1\" class=\"dataframe\">\n  <thead>\n    <tr style=\"text-align: right;\">\n      <th></th>\n      <th>id</th>\n      <th>0</th>\n      <th>1</th>\n      <th>2</th>\n      <th>3</th>\n      <th>4</th>\n      <th>5</th>\n      <th>6</th>\n      <th>7</th>\n      <th>8</th>\n      <th>9</th>\n      <th>10</th>\n      <th>11</th>\n      <th>12</th>\n      <th>13</th>\n      <th>14</th>\n    </tr>\n  </thead>\n  <tbody>\n    <tr>\n      <th>0</th>\n      <td>0</td>\n      <td>-3.4</td>\n      <td>-0.1</td>\n      <td>3.2</td>\n      <td>6.5</td>\n      <td>8.6</td>\n      <td>8.2</td>\n      <td>7.8</td>\n      <td>7.5</td>\n      <td>7.1</td>\n      <td>6.8</td>\n      <td>6.4</td>\n      <td>6.1</td>\n      <td>5.7</td>\n      <td>5.3</td>\n      <td>0.000000</td>\n    </tr>\n    <tr>\n      <th>1</th>\n      <td>1</td>\n      <td>-5.4</td>\n      <td>-0.2</td>\n      <td>5.0</td>\n      <td>9.4</td>\n      <td>8.7</td>\n      <td>7.9</td>\n      <td>7.2</td>\n      <td>6.4</td>\n      <td>5.7</td>\n      <td>4.9</td>\n      <td>4.1</td>\n      <td>3.4</td>\n      <td>2.6</td>\n      <td>1.9</td>\n      <td>0.000000</td>\n    </tr>\n    <tr>\n      <th>2</th>\n      <td>2</td>\n      <td>-2.1</td>\n      <td>0.4</td>\n      <td>3.0</td>\n      <td>5.5</td>\n      <td>8.0</td>\n      <td>8.8</td>\n      <td>8.5</td>\n      <td>8.1</td>\n      <td>7.8</td>\n      <td>7.5</td>\n      <td>7.2</td>\n      <td>6.9</td>\n      <td>6.6</td>\n      <td>6.2</td>\n      <td>5.895681</td>\n    </tr>\n    <tr>\n      <th>3</th>\n      <td>3</td>\n      <td>-4.1</td>\n      <td>-0.1</td>\n      <td>3.8</td>\n      <td>7.5</td>\n      <td>7.2</td>\n      <td>7.0</td>\n      <td>6.8</td>\n      <td>6.6</td>\n      <td>6.4</td>\n      <td>6.2</td>\n      <td>6.0</td>\n      <td>5.8</td>\n      <td>5.6</td>\n      <td>5.4</td>\n      <td>0.000000</td>\n    </tr>\n    <tr>\n      <th>4</th>\n      <td>4</td>\n      <td>-4.0</td>\n      <td>0.1</td>\n      <td>4.1</td>\n      <td>8.2</td>\n      <td>8.5</td>\n      <td>8.1</td>\n      <td>7.8</td>\n      <td>7.4</td>\n      <td>7.0</td>\n      <td>6.6</td>\n      <td>6.2</td>\n      <td>5.8</td>\n      <td>5.4</td>\n      <td>5.0</td>\n      <td>0.000000</td>\n    </tr>\n    <tr>\n      <th>...</th>\n      <td>...</td>\n      <td>...</td>\n      <td>...</td>\n      <td>...</td>\n      <td>...</td>\n      <td>...</td>\n      <td>...</td>\n      <td>...</td>\n      <td>...</td>\n      <td>...</td>\n      <td>...</td>\n      <td>...</td>\n      <td>...</td>\n      <td>...</td>\n      <td>...</td>\n      <td>...</td>\n    </tr>\n    <tr>\n      <th>999995</th>\n      <td>999995</td>\n      <td>-7.4</td>\n      <td>-1.7</td>\n      <td>4.0</td>\n      <td>9.6</td>\n      <td>9.3</td>\n      <td>8.9</td>\n      <td>8.4</td>\n      <td>7.9</td>\n      <td>7.5</td>\n      <td>7.0</td>\n      <td>6.6</td>\n      <td>6.1</td>\n      <td>5.7</td>\n      <td>5.2</td>\n      <td>4.869682</td>\n    </tr>\n    <tr>\n      <th>999996</th>\n      <td>999996</td>\n      <td>-3.8</td>\n      <td>-0.4</td>\n      <td>3.1</td>\n      <td>6.5</td>\n      <td>10.0</td>\n      <td>9.4</td>\n      <td>8.8</td>\n      <td>8.2</td>\n      <td>7.6</td>\n      <td>7.0</td>\n      <td>6.4</td>\n      <td>5.9</td>\n      <td>5.3</td>\n      <td>4.7</td>\n      <td>6.962723</td>\n    </tr>\n    <tr>\n      <th>999997</th>\n      <td>999997</td>\n      <td>-9.5</td>\n      <td>-4.2</td>\n      <td>1.1</td>\n      <td>6.5</td>\n      <td>9.1</td>\n      <td>8.6</td>\n      <td>8.2</td>\n      <td>7.7</td>\n      <td>7.2</td>\n      <td>6.8</td>\n      <td>6.3</td>\n      <td>5.8</td>\n      <td>5.4</td>\n      <td>4.9</td>\n      <td>5.233132</td>\n    </tr>\n    <tr>\n      <th>999998</th>\n      <td>999998</td>\n      <td>-4.1</td>\n      <td>-0.6</td>\n      <td>2.8</td>\n      <td>6.3</td>\n      <td>8.2</td>\n      <td>7.9</td>\n      <td>7.6</td>\n      <td>7.3</td>\n      <td>7.0</td>\n      <td>6.7</td>\n      <td>6.4</td>\n      <td>6.1</td>\n      <td>5.7</td>\n      <td>5.4</td>\n      <td>0.000000</td>\n    </tr>\n    <tr>\n      <th>999999</th>\n      <td>999999</td>\n      <td>-0.2</td>\n      <td>1.7</td>\n      <td>3.5</td>\n      <td>5.4</td>\n      <td>7.3</td>\n      <td>7.5</td>\n      <td>7.3</td>\n      <td>7.1</td>\n      <td>6.9</td>\n      <td>6.7</td>\n      <td>6.5</td>\n      <td>6.3</td>\n      <td>6.1</td>\n      <td>6.0</td>\n      <td>6.591519</td>\n    </tr>\n  </tbody>\n</table>\n<p>1000000 rows × 16 columns</p>\n</div>"
     },
     "metadata": {},
     "execution_count": 18
    }
   ],
   "source": [
    "viral_loads"
   ]
  },
  {
   "cell_type": "code",
   "execution_count": 2,
   "metadata": {},
   "outputs": [],
   "source": [
    "# Pareto Points\n",
    "\n",
    "res = pd.read_csv('data/results_23_05_2.csv')\n",
    "\n",
    "def pareto(df):\n",
    "    aux = df.sort_values('expected_infecting_days', ascending=True)\n",
    "\n",
    "    pareto_points = []    \n",
    "    while aux.shape[0] > 0:\n",
    "        pareto_points.append(aux.iloc[0:1])\n",
    "        current_high = aux['expected_non_infecting_days'].iloc[0]\n",
    "        aux = aux.loc[lambda x: x['expected_non_infecting_days'] > current_high]\n",
    "        \n",
    "    return pd.concat(pareto_points)\n",
    "\n",
    "pareto_points = res.groupby(['num_antigen', 'num_pcr'], as_index=False).apply(pareto)\n",
    "\n",
    "pareto_points.to_csv('data/pareto_points_23_05_2.csv')\n"
   ]
  },
  {
   "cell_type": "code",
   "execution_count": null,
   "metadata": {},
   "outputs": [],
   "source": []
  },
  {
   "cell_type": "code",
   "execution_count": 97,
   "metadata": {},
   "outputs": [],
   "source": [
    "# Table of best policies\n",
    "\n",
    "res = pd.read_csv('data/results_19_05_1.csv').rename(columns={'variance_infencting_days': 'variance_infecting_days'})\n",
    "\n",
    "def best_k(df, k=3):\n",
    "    best_k_df = df.sort_values('expected_infecting_days', ascending=True).iloc[:k]\n",
    "    return best_k_df\n",
    "\n",
    "def best_p(df, p=.05):\n",
    "    best_value = df.sort_values('expected_infecting_days', ascending=True)['expected_infecting_days'].iloc[0]\n",
    "    best_p_df = df.loc[df['expected_infecting_days'] < (1 + p) * best_value]\n",
    "    return best_p_df\n",
    "\n",
    "def best_p_and_k(df, p=0.2, k=1):\n",
    "    best_value = df.sort_values('expected_infecting_days', ascending=True)['expected_infecting_days'].iloc[0]\n",
    "    best_p_df = df.loc[df['expected_infecting_days'] < (1 + p) * best_value]\n",
    "    best_p_k_df = (\n",
    "        best_p_df\n",
    "        .sort_values('expected_infecting_days', ascending=True)\n",
    "        .iloc[:k]\n",
    "        .sort_values('variance_infecting_days', ascending=True)\n",
    "        .assign(ranking = lambda x: list(range(1, x.shape[0] + 1)))\n",
    "    )\n",
    "\n",
    "    return best_p_k_df\n",
    "\n",
    "def best_sd(df):\n",
    "    best_value = df.sort_values('expected_infecting_days', ascending=True)['expected_infecting_days'].iloc[0]\n",
    "    best_value_sd = df.sort_values('expected_infecting_days', ascending=True)['variance_infecting_days'].iloc[0]\n",
    "    best_sd_df = df.loc[df['expected_infecting_days'] < best_value_sd + best_value]\n",
    "    return best_sd_df\n",
    "\n",
    "\n",
    "# (res\n",
    "#     .groupby([ 'num_pcr', 'num_antigen'], as_index=False)\n",
    "#     .apply(best_p_and_k)\n",
    "#     # .set_index([ 'num_pcr', 'num_antigen', 'ranking'])\n",
    "#     .assign(policy = lambda x: 'Antigen: ' + x['antigen_days'] + ', PCR: ' + x['pcr_days'])\n",
    "#     .pivot(index=['num_pcr', 'num_antigen'],\n",
    "#            columns='ranking',\n",
    "#            values=['policy'])\n",
    "#     .fillna('[]')\n",
    "#     .applymap(lambda x: x.replace('[]', ''))\n",
    "#     .to_csv('data/best_policies_table_20_05_2.csv')\n",
    "# )\n",
    "\n",
    "(res\n",
    "    .groupby([ 'num_pcr', 'num_antigen'], as_index=False)\n",
    "    .apply(best_p_and_k)\n",
    "    # .set_index([ 'num_pcr', 'num_antigen', 'ranking'])\n",
    "    .assign(policy = lambda x: 'Antigen: ' + x['antigen_days'] + ', PCR: ' + x['pcr_days'])\n",
    "    .pivot(index=['num_pcr', 'num_antigen'],\n",
    "           columns='ranking',\n",
    "           values=['expected_infecting_days', 'expected_non_infecting_days'])\n",
    "    .fillna(0)\n",
    "    # .applymap(lambda x: x.replace('[]', ''))\n",
    "    .to_csv('data/best_performances_table_20_05_1.csv')\n",
    ")\n",
    "\n",
    "# res_aux = res.groupby([ 'num_pcr', 'num_antigen',], as_index=False).apply(best_p_and_k)#.assign(antigen_days = lambda x: 'Antigen: ' + x['antigen_days'], pcr_days = lambda x: 'PCR: ' + x['pcr_days'])\n",
    "\n",
    "# res1 = res_aux.loc[lambda x: x['ranking'] == 1][['num_pcr', 'num_antigen', 'antigen_days', 'pcr_days', 'ranking']]\n",
    "# res2 = res_aux.loc[lambda x: x['ranking'] == 2][['num_pcr', 'num_antigen', 'antigen_days', 'pcr_days', 'ranking']]\n",
    "# res3 = res_aux.loc[lambda x: x['ranking'] == 3][['num_pcr', 'num_antigen', 'antigen_days', 'pcr_days', 'ranking']]\n",
    "\n",
    "# res1.merge(res2, on=['num_pcr', 'num_antigen']).merge(res3, on=['num_pcr', 'num_antigen']).sort_values(['num_pcr', 'num_antigen']).set_index(['num_pcr', 'num_antigen'])\n",
    "\n",
    "# aux = res.groupby([ 'num_pcr', 'num_antigen',], as_index=False).apply(best_p_and_k).assign(antigen_days = lambda x: 'Antigen: ' + x['antigen_days'], pcr_days = lambda x: 'PCR: ' + x['pcr_days']).groupby([ 'num_pcr', 'num_antigen', 'ranking']).agg({'antigen_days': 'first', 'pcr_days':'first'}).unstack()\n",
    "# aux.columns = aux.columns.swaplevel(0, 1)\n",
    "# aux.sort_index(level=0, axis=1).fillna('[]').applymap(lambda x: x.replace('[]', '')).to_csv('data/best_policies_table_20_05_1.csv')"
   ]
  },
  {
   "cell_type": "code",
   "execution_count": 30,
   "metadata": {},
   "outputs": [
    {
     "output_type": "error",
     "ename": "NameError",
     "evalue": "name 'y' is not defined",
     "traceback": [
      "\u001b[0;31m---------------------------------------------------------------------------\u001b[0m",
      "\u001b[0;31mNameError\u001b[0m                                 Traceback (most recent call last)",
      "\u001b[0;32m<ipython-input-30-134cd6983678>\u001b[0m in \u001b[0;36m<module>\u001b[0;34m\u001b[0m\n\u001b[0;32m----> 1\u001b[0;31m \u001b[0mpareto_points\u001b[0m\u001b[0;34m.\u001b[0m\u001b[0massign\u001b[0m\u001b[0;34m(\u001b[0m\u001b[0mcombo\u001b[0m \u001b[0;34m=\u001b[0m \u001b[0;32mlambda\u001b[0m \u001b[0mx\u001b[0m\u001b[0;34m:\u001b[0m \u001b[0mstr\u001b[0m\u001b[0;34m(\u001b[0m\u001b[0my\u001b[0m\u001b[0;34m[\u001b[0m\u001b[0;34m'num_antigen'\u001b[0m\u001b[0;34m]\u001b[0m\u001b[0;34m)\u001b[0m \u001b[0;34m+\u001b[0m \u001b[0;34m','\u001b[0m \u001b[0;34m+\u001b[0m \u001b[0mstr\u001b[0m\u001b[0;34m(\u001b[0m\u001b[0my\u001b[0m\u001b[0;34m[\u001b[0m\u001b[0;34m'num_pcr'\u001b[0m\u001b[0;34m]\u001b[0m\u001b[0;34m)\u001b[0m\u001b[0;34m)\u001b[0m\u001b[0;34m\u001b[0m\u001b[0;34m\u001b[0m\u001b[0m\n\u001b[0m",
      "\u001b[0;32m/Library/Frameworks/Python.framework/Versions/3.9/lib/python3.9/site-packages/pandas/core/frame.py\u001b[0m in \u001b[0;36massign\u001b[0;34m(self, **kwargs)\u001b[0m\n\u001b[1;32m   3828\u001b[0m \u001b[0;34m\u001b[0m\u001b[0m\n\u001b[1;32m   3829\u001b[0m         \u001b[0;32mfor\u001b[0m \u001b[0mk\u001b[0m\u001b[0;34m,\u001b[0m \u001b[0mv\u001b[0m \u001b[0;32min\u001b[0m \u001b[0mkwargs\u001b[0m\u001b[0;34m.\u001b[0m\u001b[0mitems\u001b[0m\u001b[0;34m(\u001b[0m\u001b[0;34m)\u001b[0m\u001b[0;34m:\u001b[0m\u001b[0;34m\u001b[0m\u001b[0;34m\u001b[0m\u001b[0m\n\u001b[0;32m-> 3830\u001b[0;31m             \u001b[0mdata\u001b[0m\u001b[0;34m[\u001b[0m\u001b[0mk\u001b[0m\u001b[0;34m]\u001b[0m \u001b[0;34m=\u001b[0m \u001b[0mcom\u001b[0m\u001b[0;34m.\u001b[0m\u001b[0mapply_if_callable\u001b[0m\u001b[0;34m(\u001b[0m\u001b[0mv\u001b[0m\u001b[0;34m,\u001b[0m \u001b[0mdata\u001b[0m\u001b[0;34m)\u001b[0m\u001b[0;34m\u001b[0m\u001b[0;34m\u001b[0m\u001b[0m\n\u001b[0m\u001b[1;32m   3831\u001b[0m         \u001b[0;32mreturn\u001b[0m \u001b[0mdata\u001b[0m\u001b[0;34m\u001b[0m\u001b[0;34m\u001b[0m\u001b[0m\n\u001b[1;32m   3832\u001b[0m \u001b[0;34m\u001b[0m\u001b[0m\n",
      "\u001b[0;32m/Library/Frameworks/Python.framework/Versions/3.9/lib/python3.9/site-packages/pandas/core/common.py\u001b[0m in \u001b[0;36mapply_if_callable\u001b[0;34m(maybe_callable, obj, **kwargs)\u001b[0m\n\u001b[1;32m    327\u001b[0m     \"\"\"\n\u001b[1;32m    328\u001b[0m     \u001b[0;32mif\u001b[0m \u001b[0mcallable\u001b[0m\u001b[0;34m(\u001b[0m\u001b[0mmaybe_callable\u001b[0m\u001b[0;34m)\u001b[0m\u001b[0;34m:\u001b[0m\u001b[0;34m\u001b[0m\u001b[0;34m\u001b[0m\u001b[0m\n\u001b[0;32m--> 329\u001b[0;31m         \u001b[0;32mreturn\u001b[0m \u001b[0mmaybe_callable\u001b[0m\u001b[0;34m(\u001b[0m\u001b[0mobj\u001b[0m\u001b[0;34m,\u001b[0m \u001b[0;34m**\u001b[0m\u001b[0mkwargs\u001b[0m\u001b[0;34m)\u001b[0m\u001b[0;34m\u001b[0m\u001b[0;34m\u001b[0m\u001b[0m\n\u001b[0m\u001b[1;32m    330\u001b[0m \u001b[0;34m\u001b[0m\u001b[0m\n\u001b[1;32m    331\u001b[0m     \u001b[0;32mreturn\u001b[0m \u001b[0mmaybe_callable\u001b[0m\u001b[0;34m\u001b[0m\u001b[0;34m\u001b[0m\u001b[0m\n",
      "\u001b[0;32m<ipython-input-30-134cd6983678>\u001b[0m in \u001b[0;36m<lambda>\u001b[0;34m(x)\u001b[0m\n\u001b[0;32m----> 1\u001b[0;31m \u001b[0mpareto_points\u001b[0m\u001b[0;34m.\u001b[0m\u001b[0massign\u001b[0m\u001b[0;34m(\u001b[0m\u001b[0mcombo\u001b[0m \u001b[0;34m=\u001b[0m \u001b[0;32mlambda\u001b[0m \u001b[0mx\u001b[0m\u001b[0;34m:\u001b[0m \u001b[0mstr\u001b[0m\u001b[0;34m(\u001b[0m\u001b[0my\u001b[0m\u001b[0;34m[\u001b[0m\u001b[0;34m'num_antigen'\u001b[0m\u001b[0;34m]\u001b[0m\u001b[0;34m)\u001b[0m \u001b[0;34m+\u001b[0m \u001b[0;34m','\u001b[0m \u001b[0;34m+\u001b[0m \u001b[0mstr\u001b[0m\u001b[0;34m(\u001b[0m\u001b[0my\u001b[0m\u001b[0;34m[\u001b[0m\u001b[0;34m'num_pcr'\u001b[0m\u001b[0;34m]\u001b[0m\u001b[0;34m)\u001b[0m\u001b[0;34m)\u001b[0m\u001b[0;34m\u001b[0m\u001b[0;34m\u001b[0m\u001b[0m\n\u001b[0m",
      "\u001b[0;31mNameError\u001b[0m: name 'y' is not defined"
     ]
    }
   ],
   "source": [
    "pareto_points.assign(combo = lambda x: str(y['num_antigen']) + ',' + str(y['num_pcr']))"
   ]
  },
  {
   "cell_type": "code",
   "execution_count": 34,
   "metadata": {},
   "outputs": [],
   "source": []
  },
  {
   "cell_type": "code",
   "execution_count": 36,
   "metadata": {},
   "outputs": [],
   "source": []
  },
  {
   "cell_type": "code",
   "execution_count": 37,
   "metadata": {},
   "outputs": [
    {
     "output_type": "execute_result",
     "data": {
      "text/plain": [
       "{0: 1.0,\n",
       " 1: 0.9989026309458073,\n",
       " 2: 0.9002216137504923,\n",
       " 3: 0.6164350165325337,\n",
       " 4: 0.2849591641515709,\n",
       " 5: 0.050062788229371935,\n",
       " 6: 0.0007553786983207074}"
      ]
     },
     "metadata": {},
     "execution_count": 37
    }
   ],
   "source": [
    "pdf2"
   ]
  },
  {
   "cell_type": "code",
   "execution_count": null,
   "metadata": {},
   "outputs": [],
   "source": []
  }
 ]
}